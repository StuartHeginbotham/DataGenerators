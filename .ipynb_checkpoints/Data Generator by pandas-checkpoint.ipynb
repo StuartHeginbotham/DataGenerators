{
 "cells": [
  {
   "cell_type": "code",
   "execution_count": 17,
   "metadata": {
    "collapsed": true
   },
   "outputs": [],
   "source": [
    "import pandas as pd\n",
    "from random import randrange\n",
    "from datetime import timedelta\n",
    "from dateutil import parser as p"
   ]
  },
  {
   "cell_type": "code",
   "execution_count": 18,
   "metadata": {
    "collapsed": true
   },
   "outputs": [],
   "source": [
    "#define start date, end date and date increment range for random increment selection\n",
    "START_DATE=p.parse('20180301')\n",
    "END_DATE=p.parse('20180320')\n",
    "DATE_INCREMENT_RANGE=(0,4)"
   ]
  },
  {
   "cell_type": "code",
   "execution_count": 19,
   "metadata": {
    "collapsed": true
   },
   "outputs": [],
   "source": [
    "#define master product and price list\n",
    "transMaster=pd.DataFrame([['Coca-Cola 1 liter',12.40],\n",
    "                          ['Koo Baked Beans 500g',5.50],\n",
    "                          ['Omo Washing Powder',76.99],\n",
    "                          ['Kit Kat Chunky',6.30]])\n",
    "\n"
   ]
  },
  {
   "cell_type": "code",
   "execution_count": 20,
   "metadata": {
    "collapsed": true
   },
   "outputs": [],
   "source": [
    "#Create a list of transactions based on:\n",
    "#      -random selection from the previously defined master product and price list\n",
    "#      -a random increment of data with a previously define range from a previously define start date\n",
    "#      -stops generating items when previously defined end date is reached\n",
    "\n",
    "i_date=START_DATE\n",
    "out_data=[]\n",
    "\n",
    "while i_date < END_DATE:\n",
    "    x=list(transMaster.loc[randrange(len(transMaster))])\n",
    "    x.append(i_date.strftime('%Y/%m/%d'))\n",
    "    out_data.append(x)\n",
    "    i_date=(i_date+timedelta(days=randrange(DATE_INCREMENT_RANGE[0],DATE_INCREMENT_RANGE[1])))"
   ]
  },
  {
   "cell_type": "code",
   "execution_count": 21,
   "metadata": {},
   "outputs": [
    {
     "data": {
      "text/html": [
       "<div>\n",
       "<style>\n",
       "    .dataframe thead tr:only-child th {\n",
       "        text-align: right;\n",
       "    }\n",
       "\n",
       "    .dataframe thead th {\n",
       "        text-align: left;\n",
       "    }\n",
       "\n",
       "    .dataframe tbody tr th {\n",
       "        vertical-align: top;\n",
       "    }\n",
       "</style>\n",
       "<table border=\"1\" class=\"dataframe\">\n",
       "  <thead>\n",
       "    <tr style=\"text-align: right;\">\n",
       "      <th></th>\n",
       "      <th>0</th>\n",
       "      <th>1</th>\n",
       "      <th>2</th>\n",
       "    </tr>\n",
       "  </thead>\n",
       "  <tbody>\n",
       "    <tr>\n",
       "      <th>0</th>\n",
       "      <td>Omo Washing Powder</td>\n",
       "      <td>76.99</td>\n",
       "      <td>2018/03/01</td>\n",
       "    </tr>\n",
       "    <tr>\n",
       "      <th>1</th>\n",
       "      <td>Koo Baked Beans 500g</td>\n",
       "      <td>5.50</td>\n",
       "      <td>2018/03/02</td>\n",
       "    </tr>\n",
       "    <tr>\n",
       "      <th>2</th>\n",
       "      <td>Koo Baked Beans 500g</td>\n",
       "      <td>5.50</td>\n",
       "      <td>2018/03/05</td>\n",
       "    </tr>\n",
       "    <tr>\n",
       "      <th>3</th>\n",
       "      <td>Kit Kat Chunky</td>\n",
       "      <td>6.30</td>\n",
       "      <td>2018/03/07</td>\n",
       "    </tr>\n",
       "    <tr>\n",
       "      <th>4</th>\n",
       "      <td>Kit Kat Chunky</td>\n",
       "      <td>6.30</td>\n",
       "      <td>2018/03/10</td>\n",
       "    </tr>\n",
       "    <tr>\n",
       "      <th>5</th>\n",
       "      <td>Kit Kat Chunky</td>\n",
       "      <td>6.30</td>\n",
       "      <td>2018/03/11</td>\n",
       "    </tr>\n",
       "    <tr>\n",
       "      <th>6</th>\n",
       "      <td>Koo Baked Beans 500g</td>\n",
       "      <td>5.50</td>\n",
       "      <td>2018/03/11</td>\n",
       "    </tr>\n",
       "    <tr>\n",
       "      <th>7</th>\n",
       "      <td>Koo Baked Beans 500g</td>\n",
       "      <td>5.50</td>\n",
       "      <td>2018/03/14</td>\n",
       "    </tr>\n",
       "    <tr>\n",
       "      <th>8</th>\n",
       "      <td>Koo Baked Beans 500g</td>\n",
       "      <td>5.50</td>\n",
       "      <td>2018/03/15</td>\n",
       "    </tr>\n",
       "    <tr>\n",
       "      <th>9</th>\n",
       "      <td>Kit Kat Chunky</td>\n",
       "      <td>6.30</td>\n",
       "      <td>2018/03/16</td>\n",
       "    </tr>\n",
       "    <tr>\n",
       "      <th>10</th>\n",
       "      <td>Coca-Cola 1 liter</td>\n",
       "      <td>12.40</td>\n",
       "      <td>2018/03/18</td>\n",
       "    </tr>\n",
       "  </tbody>\n",
       "</table>\n",
       "</div>"
      ],
      "text/plain": [
       "                       0      1           2\n",
       "0     Omo Washing Powder  76.99  2018/03/01\n",
       "1   Koo Baked Beans 500g   5.50  2018/03/02\n",
       "2   Koo Baked Beans 500g   5.50  2018/03/05\n",
       "3         Kit Kat Chunky   6.30  2018/03/07\n",
       "4         Kit Kat Chunky   6.30  2018/03/10\n",
       "5         Kit Kat Chunky   6.30  2018/03/11\n",
       "6   Koo Baked Beans 500g   5.50  2018/03/11\n",
       "7   Koo Baked Beans 500g   5.50  2018/03/14\n",
       "8   Koo Baked Beans 500g   5.50  2018/03/15\n",
       "9         Kit Kat Chunky   6.30  2018/03/16\n",
       "10     Coca-Cola 1 liter  12.40  2018/03/18"
      ]
     },
     "execution_count": 21,
     "metadata": {},
     "output_type": "execute_result"
    }
   ],
   "source": [
    "#Convert the list to a dataframe\n",
    "df=pd.DataFrame(out_data)\n",
    "df"
   ]
  },
  {
   "cell_type": "code",
   "execution_count": null,
   "metadata": {
    "collapsed": true
   },
   "outputs": [],
   "source": []
  }
 ],
 "metadata": {
  "kernelspec": {
   "display_name": "Python 3",
   "language": "python",
   "name": "python3"
  },
  "language_info": {
   "codemirror_mode": {
    "name": "ipython",
    "version": 3
   },
   "file_extension": ".py",
   "mimetype": "text/x-python",
   "name": "python",
   "nbconvert_exporter": "python",
   "pygments_lexer": "ipython3",
   "version": "3.6.3"
  }
 },
 "nbformat": 4,
 "nbformat_minor": 2
}
