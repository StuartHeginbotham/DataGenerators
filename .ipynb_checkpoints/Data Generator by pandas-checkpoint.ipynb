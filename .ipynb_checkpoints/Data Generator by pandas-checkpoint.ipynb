{
 "cells": [
  {
   "cell_type": "code",
   "execution_count": 153,
   "metadata": {
    "collapsed": true
   },
   "outputs": [],
   "source": [
    "import pandas as pd\n",
    "from random import randrange\n",
    "from datetime import timedelta\n",
    "from dateutil import parser as p"
   ]
  },
  {
   "cell_type": "code",
   "execution_count": 154,
   "metadata": {
    "collapsed": true
   },
   "outputs": [],
   "source": [
    "# define start date, end date and increment range\n",
    "start_date=p.parse('20180301')\n",
    "end_date=p.parse('20180320')\n",
    "date_increment_range=(0,4)"
   ]
  },
  {
   "cell_type": "code",
   "execution_count": 155,
   "metadata": {
    "collapsed": true
   },
   "outputs": [],
   "source": [
    "#create master transaction list\n",
    "transMaster=pd.DataFrame([['Coca-Cola 1 liter',12.40],\n",
    "                          ['Koo Baked Beans 500g',5.50],\n",
    "                          ['Omo Washing Powder',76.99],\n",
    "                          ['Kit Kat Chunky',6.30]])\n",
    "\n"
   ]
  },
  {
   "cell_type": "code",
   "execution_count": 156,
   "metadata": {
    "collapsed": true
   },
   "outputs": [],
   "source": [
    "i_date=start_date\n",
    "out_data=[]\n",
    "\n",
    "while i_date < end_date:\n",
    "    x=list(transMaster.loc[randrange(len(transMaster)-1)])\n",
    "    x.append(i_date.strftime('%Y/%m/%d'))\n",
    "    out_data.append(x)\n",
    "    i_date=(i_date+timedelta(days=randrange(date_increment_range[0],date_increment_range[1])))"
   ]
  },
  {
   "cell_type": "code",
   "execution_count": 157,
   "metadata": {},
   "outputs": [
    {
     "data": {
      "text/html": [
       "<div>\n",
       "<style>\n",
       "    .dataframe thead tr:only-child th {\n",
       "        text-align: right;\n",
       "    }\n",
       "\n",
       "    .dataframe thead th {\n",
       "        text-align: left;\n",
       "    }\n",
       "\n",
       "    .dataframe tbody tr th {\n",
       "        vertical-align: top;\n",
       "    }\n",
       "</style>\n",
       "<table border=\"1\" class=\"dataframe\">\n",
       "  <thead>\n",
       "    <tr style=\"text-align: right;\">\n",
       "      <th></th>\n",
       "      <th>0</th>\n",
       "      <th>1</th>\n",
       "      <th>2</th>\n",
       "    </tr>\n",
       "  </thead>\n",
       "  <tbody>\n",
       "    <tr>\n",
       "      <th>0</th>\n",
       "      <td>Coca-Cola 1 liter</td>\n",
       "      <td>12.40</td>\n",
       "      <td>2018/03/01</td>\n",
       "    </tr>\n",
       "    <tr>\n",
       "      <th>1</th>\n",
       "      <td>Omo Washing Powder</td>\n",
       "      <td>76.99</td>\n",
       "      <td>2018/03/04</td>\n",
       "    </tr>\n",
       "    <tr>\n",
       "      <th>2</th>\n",
       "      <td>Koo Baked Beans 500g</td>\n",
       "      <td>5.50</td>\n",
       "      <td>2018/03/04</td>\n",
       "    </tr>\n",
       "    <tr>\n",
       "      <th>3</th>\n",
       "      <td>Koo Baked Beans 500g</td>\n",
       "      <td>5.50</td>\n",
       "      <td>2018/03/04</td>\n",
       "    </tr>\n",
       "    <tr>\n",
       "      <th>4</th>\n",
       "      <td>Omo Washing Powder</td>\n",
       "      <td>76.99</td>\n",
       "      <td>2018/03/06</td>\n",
       "    </tr>\n",
       "    <tr>\n",
       "      <th>5</th>\n",
       "      <td>Koo Baked Beans 500g</td>\n",
       "      <td>5.50</td>\n",
       "      <td>2018/03/08</td>\n",
       "    </tr>\n",
       "    <tr>\n",
       "      <th>6</th>\n",
       "      <td>Koo Baked Beans 500g</td>\n",
       "      <td>5.50</td>\n",
       "      <td>2018/03/10</td>\n",
       "    </tr>\n",
       "    <tr>\n",
       "      <th>7</th>\n",
       "      <td>Koo Baked Beans 500g</td>\n",
       "      <td>5.50</td>\n",
       "      <td>2018/03/11</td>\n",
       "    </tr>\n",
       "    <tr>\n",
       "      <th>8</th>\n",
       "      <td>Omo Washing Powder</td>\n",
       "      <td>76.99</td>\n",
       "      <td>2018/03/14</td>\n",
       "    </tr>\n",
       "    <tr>\n",
       "      <th>9</th>\n",
       "      <td>Coca-Cola 1 liter</td>\n",
       "      <td>12.40</td>\n",
       "      <td>2018/03/15</td>\n",
       "    </tr>\n",
       "    <tr>\n",
       "      <th>10</th>\n",
       "      <td>Omo Washing Powder</td>\n",
       "      <td>76.99</td>\n",
       "      <td>2018/03/18</td>\n",
       "    </tr>\n",
       "  </tbody>\n",
       "</table>\n",
       "</div>"
      ],
      "text/plain": [
       "                       0      1           2\n",
       "0      Coca-Cola 1 liter  12.40  2018/03/01\n",
       "1     Omo Washing Powder  76.99  2018/03/04\n",
       "2   Koo Baked Beans 500g   5.50  2018/03/04\n",
       "3   Koo Baked Beans 500g   5.50  2018/03/04\n",
       "4     Omo Washing Powder  76.99  2018/03/06\n",
       "5   Koo Baked Beans 500g   5.50  2018/03/08\n",
       "6   Koo Baked Beans 500g   5.50  2018/03/10\n",
       "7   Koo Baked Beans 500g   5.50  2018/03/11\n",
       "8     Omo Washing Powder  76.99  2018/03/14\n",
       "9      Coca-Cola 1 liter  12.40  2018/03/15\n",
       "10    Omo Washing Powder  76.99  2018/03/18"
      ]
     },
     "execution_count": 157,
     "metadata": {},
     "output_type": "execute_result"
    }
   ],
   "source": [
    "df=pd.DataFrame(out_data)\n",
    "df"
   ]
  },
  {
   "cell_type": "code",
   "execution_count": null,
   "metadata": {
    "collapsed": true
   },
   "outputs": [],
   "source": []
  }
 ],
 "metadata": {
  "kernelspec": {
   "display_name": "Python 3",
   "language": "python",
   "name": "python3"
  },
  "language_info": {
   "codemirror_mode": {
    "name": "ipython",
    "version": 3
   },
   "file_extension": ".py",
   "mimetype": "text/x-python",
   "name": "python",
   "nbconvert_exporter": "python",
   "pygments_lexer": "ipython3",
   "version": "3.6.3"
  }
 },
 "nbformat": 4,
 "nbformat_minor": 2
}
