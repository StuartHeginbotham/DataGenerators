{
 "cells": [
  {
   "cell_type": "code",
   "execution_count": 1,
   "metadata": {
    "collapsed": true
   },
   "outputs": [],
   "source": [
    "import pandas as pd\n",
    "from random import randrange\n",
    "from datetime import timedelta\n",
    "from dateutil import parser as p"
   ]
  },
  {
   "cell_type": "code",
   "execution_count": 2,
   "metadata": {
    "collapsed": true
   },
   "outputs": [],
   "source": [
    "# define start date, end date and increment range\n",
    "start_date=p.parse('20180301')\n",
    "end_date=p.parse('20180320')\n",
    "date_increment_range=(0,4)"
   ]
  },
  {
   "cell_type": "code",
   "execution_count": 3,
   "metadata": {
    "collapsed": true
   },
   "outputs": [],
   "source": [
    "transMaster=[['Coca-Cola 1 liter',12.40],\n",
    "            ['Koo Baked Beans 500g',5.50],\n",
    "            ['Omo Washing Powder',76.99],\n",
    "            ['Kit Kat Chunky',6.30]]\n"
   ]
  },
  {
   "cell_type": "code",
   "execution_count": 7,
   "metadata": {},
   "outputs": [
    {
     "data": {
      "text/plain": [
       "['Koo Baked Beans 500g',\n",
       " 5.5,\n",
       " '2018/03/01',\n",
       " '2018/03/06',\n",
       " '2018/03/06',\n",
       " '2018/03/13',\n",
       " '2018/03/15',\n",
       " '2018/03/18',\n",
       " '2018/03/19']"
      ]
     },
     "execution_count": 7,
     "metadata": {},
     "output_type": "execute_result"
    }
   ],
   "source": [
    "x=transMaster[randrange(len(transMaster))]\n",
    "x"
   ]
  },
  {
   "cell_type": "code",
   "execution_count": 4,
   "metadata": {
    "collapsed": true
   },
   "outputs": [],
   "source": [
    "i_date=start_date\n",
    "out_data=[]\n",
    "\n",
    "while i_date < end_date:\n",
    "    x=[]\n",
    "    x=transMaster[randrange(len(transMaster))]\n",
    "    x.append(i_date.strftime('%Y/%m/%d'))\n",
    "    out_data.append(x)\n",
    "    i_date=(i_date+timedelta(days=randrange(date_increment_range[0],date_increment_range[1])))"
   ]
  },
  {
   "cell_type": "code",
   "execution_count": 5,
   "metadata": {},
   "outputs": [
    {
     "data": {
      "text/plain": [
       "[['Koo Baked Beans 500g',\n",
       "  5.5,\n",
       "  '2018/03/01',\n",
       "  '2018/03/06',\n",
       "  '2018/03/06',\n",
       "  '2018/03/13',\n",
       "  '2018/03/15',\n",
       "  '2018/03/18',\n",
       "  '2018/03/19'],\n",
       " ['Kit Kat Chunky',\n",
       "  6.3,\n",
       "  '2018/03/01',\n",
       "  '2018/03/05',\n",
       "  '2018/03/12',\n",
       "  '2018/03/12',\n",
       "  '2018/03/14',\n",
       "  '2018/03/19'],\n",
       " ['Coca-Cola 1 liter', 12.4, '2018/03/02', '2018/03/10', '2018/03/15'],\n",
       " ['Kit Kat Chunky',\n",
       "  6.3,\n",
       "  '2018/03/01',\n",
       "  '2018/03/05',\n",
       "  '2018/03/12',\n",
       "  '2018/03/12',\n",
       "  '2018/03/14',\n",
       "  '2018/03/19'],\n",
       " ['Koo Baked Beans 500g',\n",
       "  5.5,\n",
       "  '2018/03/01',\n",
       "  '2018/03/06',\n",
       "  '2018/03/06',\n",
       "  '2018/03/13',\n",
       "  '2018/03/15',\n",
       "  '2018/03/18',\n",
       "  '2018/03/19'],\n",
       " ['Koo Baked Beans 500g',\n",
       "  5.5,\n",
       "  '2018/03/01',\n",
       "  '2018/03/06',\n",
       "  '2018/03/06',\n",
       "  '2018/03/13',\n",
       "  '2018/03/15',\n",
       "  '2018/03/18',\n",
       "  '2018/03/19'],\n",
       " ['Omo Washing Powder',\n",
       "  76.99,\n",
       "  '2018/03/09',\n",
       "  '2018/03/10',\n",
       "  '2018/03/14',\n",
       "  '2018/03/15',\n",
       "  '2018/03/18'],\n",
       " ['Omo Washing Powder',\n",
       "  76.99,\n",
       "  '2018/03/09',\n",
       "  '2018/03/10',\n",
       "  '2018/03/14',\n",
       "  '2018/03/15',\n",
       "  '2018/03/18'],\n",
       " ['Coca-Cola 1 liter', 12.4, '2018/03/02', '2018/03/10', '2018/03/15'],\n",
       " ['Kit Kat Chunky',\n",
       "  6.3,\n",
       "  '2018/03/01',\n",
       "  '2018/03/05',\n",
       "  '2018/03/12',\n",
       "  '2018/03/12',\n",
       "  '2018/03/14',\n",
       "  '2018/03/19'],\n",
       " ['Kit Kat Chunky',\n",
       "  6.3,\n",
       "  '2018/03/01',\n",
       "  '2018/03/05',\n",
       "  '2018/03/12',\n",
       "  '2018/03/12',\n",
       "  '2018/03/14',\n",
       "  '2018/03/19'],\n",
       " ['Koo Baked Beans 500g',\n",
       "  5.5,\n",
       "  '2018/03/01',\n",
       "  '2018/03/06',\n",
       "  '2018/03/06',\n",
       "  '2018/03/13',\n",
       "  '2018/03/15',\n",
       "  '2018/03/18',\n",
       "  '2018/03/19'],\n",
       " ['Kit Kat Chunky',\n",
       "  6.3,\n",
       "  '2018/03/01',\n",
       "  '2018/03/05',\n",
       "  '2018/03/12',\n",
       "  '2018/03/12',\n",
       "  '2018/03/14',\n",
       "  '2018/03/19'],\n",
       " ['Omo Washing Powder',\n",
       "  76.99,\n",
       "  '2018/03/09',\n",
       "  '2018/03/10',\n",
       "  '2018/03/14',\n",
       "  '2018/03/15',\n",
       "  '2018/03/18'],\n",
       " ['Koo Baked Beans 500g',\n",
       "  5.5,\n",
       "  '2018/03/01',\n",
       "  '2018/03/06',\n",
       "  '2018/03/06',\n",
       "  '2018/03/13',\n",
       "  '2018/03/15',\n",
       "  '2018/03/18',\n",
       "  '2018/03/19'],\n",
       " ['Coca-Cola 1 liter', 12.4, '2018/03/02', '2018/03/10', '2018/03/15'],\n",
       " ['Omo Washing Powder',\n",
       "  76.99,\n",
       "  '2018/03/09',\n",
       "  '2018/03/10',\n",
       "  '2018/03/14',\n",
       "  '2018/03/15',\n",
       "  '2018/03/18'],\n",
       " ['Koo Baked Beans 500g',\n",
       "  5.5,\n",
       "  '2018/03/01',\n",
       "  '2018/03/06',\n",
       "  '2018/03/06',\n",
       "  '2018/03/13',\n",
       "  '2018/03/15',\n",
       "  '2018/03/18',\n",
       "  '2018/03/19'],\n",
       " ['Omo Washing Powder',\n",
       "  76.99,\n",
       "  '2018/03/09',\n",
       "  '2018/03/10',\n",
       "  '2018/03/14',\n",
       "  '2018/03/15',\n",
       "  '2018/03/18'],\n",
       " ['Koo Baked Beans 500g',\n",
       "  5.5,\n",
       "  '2018/03/01',\n",
       "  '2018/03/06',\n",
       "  '2018/03/06',\n",
       "  '2018/03/13',\n",
       "  '2018/03/15',\n",
       "  '2018/03/18',\n",
       "  '2018/03/19'],\n",
       " ['Kit Kat Chunky',\n",
       "  6.3,\n",
       "  '2018/03/01',\n",
       "  '2018/03/05',\n",
       "  '2018/03/12',\n",
       "  '2018/03/12',\n",
       "  '2018/03/14',\n",
       "  '2018/03/19']]"
      ]
     },
     "execution_count": 5,
     "metadata": {},
     "output_type": "execute_result"
    }
   ],
   "source": [
    "out_data"
   ]
  },
  {
   "cell_type": "code",
   "execution_count": null,
   "metadata": {
    "collapsed": true
   },
   "outputs": [],
   "source": []
  }
 ],
 "metadata": {
  "kernelspec": {
   "display_name": "Python 3",
   "language": "python",
   "name": "python3"
  },
  "language_info": {
   "codemirror_mode": {
    "name": "ipython",
    "version": 3
   },
   "file_extension": ".py",
   "mimetype": "text/x-python",
   "name": "python",
   "nbconvert_exporter": "python",
   "pygments_lexer": "ipython3",
   "version": "3.6.3"
  }
 },
 "nbformat": 4,
 "nbformat_minor": 2
}
