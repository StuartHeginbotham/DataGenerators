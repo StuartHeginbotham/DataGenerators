{
 "cells": [
  {
   "cell_type": "code",
   "execution_count": 1,
   "metadata": {
    "collapsed": true
   },
   "outputs": [],
   "source": [
    "import pandas as pd\n",
    "from random import randrange\n",
    "from datetime import timedelta\n",
    "from dateutil import parser as p"
   ]
  },
  {
   "cell_type": "code",
   "execution_count": 2,
   "metadata": {
    "collapsed": true
   },
   "outputs": [],
   "source": [
    "# define start date, end date and increment range\n",
    "start_date=p.parse('20180301')\n",
    "end_date=p.parse('20180320')\n",
    "date_increment_range=(0,4)"
   ]
  },
  {
   "cell_type": "code",
   "execution_count": 3,
   "metadata": {
    "collapsed": true
   },
   "outputs": [],
   "source": [
    "transMaster=[['Coca-Cola 1 liter',12.40],\n",
    "            ['Koo Baked Beans 500g',5.50],\n",
    "            ['Omo Washing Powder',76.99],\n",
    "            ['Kit Kat Chunky',6.30]]\n"
   ]
  },
  {
   "cell_type": "code",
   "execution_count": 4,
   "metadata": {},
   "outputs": [],
   "source": [
    "#Doesn't work!!!\n",
    "i_date=start_date\n",
    "out_data=[]\n",
    "\n",
    "while i_date < end_date:\n",
    "    x=transMaster[randrange(len(transMaster)-1)]\n",
    "    x.append(i_date.strftime('%Y/%m/%d'))\n",
    "    out_data.append(x)\n",
    "    i_date=(i_date+timedelta(days=randrange(date_increment_range[0],date_increment_range[1])))"
   ]
  },
  {
   "cell_type": "code",
   "execution_count": 5,
   "metadata": {},
   "outputs": [
    {
     "data": {
      "text/plain": [
       "[['Coca-Cola 1 liter',\n",
       "  12.4,\n",
       "  '2018/03/01',\n",
       "  '2018/03/08',\n",
       "  '2018/03/11',\n",
       "  '2018/03/13',\n",
       "  '2018/03/14',\n",
       "  '2018/03/14',\n",
       "  '2018/03/14',\n",
       "  '2018/03/16'],\n",
       " ['Omo Washing Powder', 76.99, '2018/03/02', '2018/03/05', '2018/03/10'],\n",
       " ['Omo Washing Powder', 76.99, '2018/03/02', '2018/03/05', '2018/03/10'],\n",
       " ['Coca-Cola 1 liter',\n",
       "  12.4,\n",
       "  '2018/03/01',\n",
       "  '2018/03/08',\n",
       "  '2018/03/11',\n",
       "  '2018/03/13',\n",
       "  '2018/03/14',\n",
       "  '2018/03/14',\n",
       "  '2018/03/14',\n",
       "  '2018/03/16'],\n",
       " ['Omo Washing Powder', 76.99, '2018/03/02', '2018/03/05', '2018/03/10'],\n",
       " ['Coca-Cola 1 liter',\n",
       "  12.4,\n",
       "  '2018/03/01',\n",
       "  '2018/03/08',\n",
       "  '2018/03/11',\n",
       "  '2018/03/13',\n",
       "  '2018/03/14',\n",
       "  '2018/03/14',\n",
       "  '2018/03/14',\n",
       "  '2018/03/16'],\n",
       " ['Coca-Cola 1 liter',\n",
       "  12.4,\n",
       "  '2018/03/01',\n",
       "  '2018/03/08',\n",
       "  '2018/03/11',\n",
       "  '2018/03/13',\n",
       "  '2018/03/14',\n",
       "  '2018/03/14',\n",
       "  '2018/03/14',\n",
       "  '2018/03/16'],\n",
       " ['Coca-Cola 1 liter',\n",
       "  12.4,\n",
       "  '2018/03/01',\n",
       "  '2018/03/08',\n",
       "  '2018/03/11',\n",
       "  '2018/03/13',\n",
       "  '2018/03/14',\n",
       "  '2018/03/14',\n",
       "  '2018/03/14',\n",
       "  '2018/03/16'],\n",
       " ['Coca-Cola 1 liter',\n",
       "  12.4,\n",
       "  '2018/03/01',\n",
       "  '2018/03/08',\n",
       "  '2018/03/11',\n",
       "  '2018/03/13',\n",
       "  '2018/03/14',\n",
       "  '2018/03/14',\n",
       "  '2018/03/14',\n",
       "  '2018/03/16'],\n",
       " ['Coca-Cola 1 liter',\n",
       "  12.4,\n",
       "  '2018/03/01',\n",
       "  '2018/03/08',\n",
       "  '2018/03/11',\n",
       "  '2018/03/13',\n",
       "  '2018/03/14',\n",
       "  '2018/03/14',\n",
       "  '2018/03/14',\n",
       "  '2018/03/16'],\n",
       " ['Koo Baked Beans 500g', 5.5, '2018/03/16', '2018/03/18'],\n",
       " ['Coca-Cola 1 liter',\n",
       "  12.4,\n",
       "  '2018/03/01',\n",
       "  '2018/03/08',\n",
       "  '2018/03/11',\n",
       "  '2018/03/13',\n",
       "  '2018/03/14',\n",
       "  '2018/03/14',\n",
       "  '2018/03/14',\n",
       "  '2018/03/16'],\n",
       " ['Koo Baked Beans 500g', 5.5, '2018/03/16', '2018/03/18']]"
      ]
     },
     "execution_count": 5,
     "metadata": {},
     "output_type": "execute_result"
    }
   ],
   "source": [
    "out_data"
   ]
  },
  {
   "cell_type": "code",
   "execution_count": null,
   "metadata": {
    "collapsed": true
   },
   "outputs": [],
   "source": []
  },
  {
   "cell_type": "code",
   "execution_count": null,
   "metadata": {
    "collapsed": true
   },
   "outputs": [],
   "source": []
  }
 ],
 "metadata": {
  "kernelspec": {
   "display_name": "Python 3",
   "language": "python",
   "name": "python3"
  },
  "language_info": {
   "codemirror_mode": {
    "name": "ipython",
    "version": 3
   },
   "file_extension": ".py",
   "mimetype": "text/x-python",
   "name": "python",
   "nbconvert_exporter": "python",
   "pygments_lexer": "ipython3",
   "version": "3.6.3"
  }
 },
 "nbformat": 4,
 "nbformat_minor": 2
}
