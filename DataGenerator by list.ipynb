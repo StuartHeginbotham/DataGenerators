{
 "cells": [
  {
   "cell_type": "code",
   "execution_count": 10,
   "metadata": {
    "collapsed": true
   },
   "outputs": [],
   "source": [
    "import pandas as pd\n",
    "from random import randrange\n",
    "from datetime import timedelta\n",
    "from dateutil import parser as p"
   ]
  },
  {
   "cell_type": "code",
   "execution_count": 11,
   "metadata": {
    "collapsed": true
   },
   "outputs": [],
   "source": [
    "# define start date, end date and increment range\n",
    "start_date=p.parse('20180301')\n",
    "end_date=p.parse('20180320')\n",
    "date_increment_range=(0,4)"
   ]
  },
  {
   "cell_type": "code",
   "execution_count": 12,
   "metadata": {
    "collapsed": true
   },
   "outputs": [],
   "source": [
    "transMaster=[['Coca-Cola 1 liter',12.40],\n",
    "            ['Koo Baked Beans 500g',5.50],\n",
    "            ['Omo Washing Powder',76.99],\n",
    "            ['Kit Kat Chunky',6.30]]\n"
   ]
  },
  {
   "cell_type": "code",
   "execution_count": 19,
   "metadata": {},
   "outputs": [],
   "source": [
    "f= open(\"test.txt\",\"w+\")\n",
    "\n",
    "i_date=start_date\n",
    "out_data=[]\n",
    "\n",
    "while i_date < end_date:\n",
    "    f.write(\"\\\"{}\\\",\\\"{}\\\",{}\\r\\n\".format(i_date.strftime('%Y/%m/%d'),\n",
    "                                    transMaster[randrange(len(transMaster)-1)][0],\n",
    "                                    transMaster[randrange(len(transMaster)-1)][1]))\n",
    "            \n",
    "    i_date=(i_date+timedelta(days=randrange(date_increment_range[0],date_increment_range[1])))"
   ]
  },
  {
   "cell_type": "code",
   "execution_count": null,
   "metadata": {
    "collapsed": true
   },
   "outputs": [],
   "source": []
  },
  {
   "cell_type": "code",
   "execution_count": null,
   "metadata": {
    "collapsed": true
   },
   "outputs": [],
   "source": []
  }
 ],
 "metadata": {
  "kernelspec": {
   "display_name": "Python 3",
   "language": "python",
   "name": "python3"
  },
  "language_info": {
   "codemirror_mode": {
    "name": "ipython",
    "version": 3
   },
   "file_extension": ".py",
   "mimetype": "text/x-python",
   "name": "python",
   "nbconvert_exporter": "python",
   "pygments_lexer": "ipython3",
   "version": "3.6.3"
  }
 },
 "nbformat": 4,
 "nbformat_minor": 2
}
