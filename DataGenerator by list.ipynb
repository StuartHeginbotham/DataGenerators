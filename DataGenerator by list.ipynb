{
 "cells": [
  {
   "cell_type": "code",
   "execution_count": 5,
   "metadata": {
    "collapsed": true
   },
   "outputs": [],
   "source": [
    "import pandas as pd\n",
    "from random import randrange\n",
    "from datetime import timedelta\n",
    "from dateutil import parser as p"
   ]
  },
  {
   "cell_type": "code",
   "execution_count": 6,
   "metadata": {
    "collapsed": true
   },
   "outputs": [],
   "source": [
    "#define start date, end date and date increment range for random increment selection\n",
    "START_DATE=p.parse('20180301')\n",
    "END_DATE=p.parse('20180320')\n",
    "DATE_INCREMENT_RANGE=(0,4)"
   ]
  },
  {
   "cell_type": "code",
   "execution_count": 7,
   "metadata": {
    "collapsed": true
   },
   "outputs": [],
   "source": [
    "#define master product and price list\n",
    "transMaster=[['Coca-Cola 1 liter',12.40],\n",
    "            ['Koo Baked Beans 500g',5.50],\n",
    "            ['Omo Washing Powder',76.99],\n",
    "            ['Kit Kat Chunky',6.30]]\n"
   ]
  },
  {
   "cell_type": "code",
   "execution_count": 8,
   "metadata": {
    "collapsed": true
   },
   "outputs": [],
   "source": [
    "#Create a list of transactions based on:\n",
    "#      -random selection from the previously defined master product and price list\n",
    "#      -a random increment of data with a previously define range from a previously define start date\n",
    "#      -stops generating items when previously defined end date is reached\n",
    "\n",
    "f= open(\"test.txt\",\"w+\")\n",
    "\n",
    "i_date=START_DATE\n",
    "out_data=[]\n",
    "\n",
    "while i_date < END_DATE:\n",
    "    f.write(\"\\\"{}\\\",\\\"{}\\\",{}\\r\\n\".format(i_date.strftime('%Y/%m/%d'),\n",
    "                                    transMaster[randrange(len(transMaster))][0],\n",
    "                                    transMaster[randrange(len(transMaster))][1]))\n",
    "            \n",
    "    i_date=(i_date+timedelta(days=randrange(DATE_INCREMENT_RANGE[0],DATE_INCREMENT_RANGE[1])))"
   ]
  },
  {
   "cell_type": "code",
   "execution_count": null,
   "metadata": {
    "collapsed": true
   },
   "outputs": [],
   "source": []
  },
  {
   "cell_type": "code",
   "execution_count": null,
   "metadata": {
    "collapsed": true
   },
   "outputs": [],
   "source": []
  }
 ],
 "metadata": {
  "kernelspec": {
   "display_name": "Python 3",
   "language": "python",
   "name": "python3"
  },
  "language_info": {
   "codemirror_mode": {
    "name": "ipython",
    "version": 3
   },
   "file_extension": ".py",
   "mimetype": "text/x-python",
   "name": "python",
   "nbconvert_exporter": "python",
   "pygments_lexer": "ipython3",
   "version": "3.6.3"
  }
 },
 "nbformat": 4,
 "nbformat_minor": 2
}
